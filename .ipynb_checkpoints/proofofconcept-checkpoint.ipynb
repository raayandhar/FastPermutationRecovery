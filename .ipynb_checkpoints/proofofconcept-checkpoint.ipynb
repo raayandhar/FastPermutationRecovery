{
 "cells": [
  {
   "cell_type": "code",
   "execution_count": 69,
   "id": "f94fd252-4bc5-41ce-8e6b-1161b670695e",
   "metadata": {},
   "outputs": [],
   "source": [
    "import numpy as np"
   ]
  },
  {
   "cell_type": "markdown",
   "id": "885c6610-6535-473d-b306-4629f5ee7e4d",
   "metadata": {},
   "source": [
    "Assume that we are given two $m \\times n$ real-valued matrices $A$ and $B$, and we know that $B$ can be obtained by permuting the rows and columns of $A$ in some unknown fashion. Describe an algorithm for recovering the row and column permutations that match $A$ to $B$. That is, the algorithm that is supposed to find $\\pi$ : $\\{1, \\dots, m\\} \\rightarrow \\{1, \\dots, m\\}$ and $\\sigma$ : $\\{1, \\dots, n\\} \\rightarrow \\{1, \\dots, n\\}$ such that\n",
    "$\n",
    "A_{\\pi(i), \\sigma(j)} = B_{ij}, \\ \\ \\text{for all $i$ and $j$}\n",
    "$"
   ]
  },
  {
   "cell_type": "code",
   "execution_count": 70,
   "id": "84684947-de90-4599-9a0a-9e8bfdcab14b",
   "metadata": {},
   "outputs": [
    {
     "name": "stdout",
     "output_type": "stream",
     "text": [
      "(25, 40)\n"
     ]
    }
   ],
   "source": [
    "A_file_path = '/home/raayan/Desktop/Github/FastPermutationRecovery/A.csv'\n",
    "A = np.genfromtxt(A_file_path, delimiter=',')\n",
    "print(A.shape)"
   ]
  },
  {
   "cell_type": "code",
   "execution_count": 71,
   "id": "615bf85b-f890-4a06-ad3c-ede20e081a17",
   "metadata": {},
   "outputs": [
    {
     "name": "stdout",
     "output_type": "stream",
     "text": [
      "(25, 40)\n"
     ]
    }
   ],
   "source": [
    "B_file_path = '/home/raayan/Desktop/Github/FastPermutationRecovery/B.csv'\n",
    "B = np.genfromtxt(B_file_path, delimiter=',')\n",
    "print(B.shape)"
   ]
  },
  {
   "cell_type": "code",
   "execution_count": 72,
   "id": "e670ecd0-bf09-4c45-a254-ab2566596e6c",
   "metadata": {},
   "outputs": [
    {
     "name": "stdout",
     "output_type": "stream",
     "text": [
      "(array([10, 14, 23]), array([ 1, 17, 30]))\n"
     ]
    }
   ],
   "source": [
    "select = A[0][0]\n",
    "indices = np.where(select == B)\n",
    "print(indices)"
   ]
  },
  {
   "cell_type": "code",
   "execution_count": 73,
   "id": "1629c2e1-8f40-4cda-8563-57b0bab0acb3",
   "metadata": {},
   "outputs": [
    {
     "name": "stdout",
     "output_type": "stream",
     "text": [
      "-0.63\n",
      "-0.63\n",
      "-0.63\n"
     ]
    }
   ],
   "source": [
    "print(B[10][1])\n",
    "print(B[14][17])\n",
    "print(B[23][30])"
   ]
  },
  {
   "cell_type": "code",
   "execution_count": 74,
   "id": "14c86b71-9b73-4ed3-85ab-708a4340cb1b",
   "metadata": {},
   "outputs": [
    {
     "name": "stdout",
     "output_type": "stream",
     "text": [
      "(array([ 0, 18, 22]), array([ 0, 22,  8]))\n",
      "3\n"
     ]
    }
   ],
   "source": [
    "A_indices = np.where(select == A)\n",
    "print(A_indices)\n",
    "print(A_indices[0].size)"
   ]
  },
  {
   "cell_type": "code",
   "execution_count": 75,
   "id": "eb7a235b-68ca-4fb5-87bc-372b5a581887",
   "metadata": {},
   "outputs": [
    {
     "name": "stdout",
     "output_type": "stream",
     "text": [
      "-0.63\n",
      "-0.63\n"
     ]
    }
   ],
   "source": [
    "print(A[18][22])\n",
    "print(A[22][8])"
   ]
  },
  {
   "cell_type": "code",
   "execution_count": 89,
   "id": "a67cf145-8080-49ec-a140-d86d236c09dd",
   "metadata": {},
   "outputs": [
    {
     "data": {
      "text/plain": [
       "'\\ndef fpr(A, B)\\n    pi = []\\n    sigma = []\\n    m, n = A.shape\\n    for i in range(m):\\n        for j in range(n):\\n            select = A[i][j]\\n            indices = np.where(select == B)\\n            # Since there can be multiples, only create a permutation if they are\\n            # not already in the same position. \\n            r = indices[0].size\\n            k = 0\\n            while k < r:\\n                if (indices[0][k] == i and indices[1][k] == j):\\n                    k += 1\\n                else: \\n                    # row permutation\\n                    pi.append(\\n                    # col permutation\\n                    break\\n'"
      ]
     },
     "execution_count": 89,
     "metadata": {},
     "output_type": "execute_result"
    }
   ],
   "source": [
    "\"\"\"\n",
    "def fpr(A, B)\n",
    "    pi = []\n",
    "    sigma = []\n",
    "    m, n = A.shape\n",
    "    for i in range(m):\n",
    "        for j in range(n):\n",
    "            select = A[i][j]\n",
    "            indices = np.where(select == B)\n",
    "            # Since there can be multiples, only create a permutation if they are\n",
    "            # not already in the same position. \n",
    "            r = indices[0].size\n",
    "            k = 0\n",
    "            while k < r:\n",
    "                if (indices[0][k] == i and indices[1][k] == j):\n",
    "                    k += 1\n",
    "                else: \n",
    "                    # row permutation\n",
    "                    pi.append(\n",
    "                    # col permutation\n",
    "                    break\n",
    "\"\"\"                    \n",
    "                \n",
    "        "
   ]
  },
  {
   "cell_type": "code",
   "execution_count": null,
   "id": "6e3b6fd6-3600-4db5-93e8-7fc0cd6ccc03",
   "metadata": {},
   "outputs": [],
   "source": []
  }
 ],
 "metadata": {
  "kernelspec": {
   "display_name": "fpr",
   "language": "python",
   "name": "fpr"
  },
  "language_info": {
   "codemirror_mode": {
    "name": "ipython",
    "version": 3
   },
   "file_extension": ".py",
   "mimetype": "text/x-python",
   "name": "python",
   "nbconvert_exporter": "python",
   "pygments_lexer": "ipython3",
   "version": "3.12.4"
  }
 },
 "nbformat": 4,
 "nbformat_minor": 5
}
